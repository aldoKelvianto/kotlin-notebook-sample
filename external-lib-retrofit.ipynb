{
 "cells": [
  {
   "cell_type": "markdown",
   "metadata": {},
   "source": [
    "You can use third-party libraries in Kotlin Notebook as well.\n",
    "We're going to call an HTTP API as the first example.\n",
    "First, declare the repository and the dependencies."
   ]
  },
  {
   "cell_type": "code",
   "execution_count": 1,
   "metadata": {},
   "outputs": [],
   "source": [
    "@file:Repository(\"https://repo1.maven.org/maven2\")\n",
    "@file:DependsOn(\"com.squareup.retrofit2:retrofit:2.11.0\")\n",
    "@file:DependsOn(\"com.squareup.retrofit2:converter-gson:2.11.0\")"
   ]
  },
  {
   "cell_type": "markdown",
   "metadata": {},
   "source": [
    "Notice that using the annotations will also **download transitive dependencies**, like `gson` in `converter-gson` and `okhttp` in `retrofit`.\n",
    "So, you just need to declare the dependencies just like in Maven or Gradle project.\n",
    "\n",
    "First, we can define the model and the service:"
   ]
  },
  {
   "cell_type": "code",
   "execution_count": 3,
   "metadata": {},
   "outputs": [],
   "source": [
    "import retrofit2.Call\n",
    "import retrofit2.http.GET\n",
    "\n",
    "data class Fact(\n",
    "    val fact: String = \"\",\n",
    "    val length: Int = 0,\n",
    ")\n",
    "\n",
    "interface CatFactService {\n",
    "    @GET(\"fact\")\n",
    "    fun getFact(): Call<Fact>\n",
    "}"
   ]
  },
  {
   "cell_type": "markdown",
   "metadata": {},
   "source": [
    "Then, write the usual `retrofit` service creation."
   ]
  },
  {
   "cell_type": "code",
   "execution_count": 4,
   "metadata": {},
   "outputs": [
    {
     "name": "stdout",
     "output_type": "stream",
     "text": [
      "Fact(fact=The chlorine in fresh tap water irritates sensitive parts of the cat's nose. Let tap water sit for 24 hours before giving it to a cat., length=134)\n"
     ]
    }
   ],
   "source": [
    "import retrofit2.Retrofit\n",
    "import retrofit2.converter.gson.GsonConverterFactory\n",
    "\n",
    "private val retrofit = Retrofit.Builder()\n",
    "    .baseUrl(\"https://catfact.ninja/\")\n",
    "    .addConverterFactory(GsonConverterFactory.create())\n",
    "    .build()\n",
    "\n",
    "private val service: CatFactService = retrofit.create(CatFactService::class.java)\n",
    "\n",
    "fun getFact(): Fact {\n",
    "    val response = service.getFact().execute()\n",
    "    return response.body() ?: Fact()\n",
    "}\n",
    "\n",
    "println(getFact()) // Fact(fact=Tylenol and chocolate are both poisionous to cats., length=50)"
   ]
  },
  {
   "cell_type": "markdown",
   "metadata": {},
   "source": [
    "That's it! You're now able to get some interesting fact about cat!\n"
   ]
  }
 ],
 "metadata": {
  "kernelspec": {
   "display_name": "Kotlin",
   "language": "kotlin",
   "name": "kotlin"
  },
  "language_info": {
   "codemirror_mode": "text/x-kotlin",
   "file_extension": ".kt",
   "mimetype": "text/x-kotlin",
   "name": "kotlin",
   "nbconvert_exporter": "",
   "pygments_lexer": "kotlin",
   "version": "1.9.23"
  }
 },
 "nbformat": 4,
 "nbformat_minor": 2
}
