{
 "cells": [
  {
   "cell_type": "markdown",
   "metadata": {},
   "source": [
    "A simple hello world exampe:"
   ]
  },
  {
   "cell_type": "code",
   "execution_count": 1,
   "metadata": {},
   "outputs": [
    {
     "name": "stdout",
     "output_type": "stream",
     "text": [
      "Hello, world!\n"
     ]
    }
   ],
   "source": [
    "println(\"Hello, world!\")"
   ]
  },
  {
   "cell_type": "markdown",
   "metadata": {},
   "source": [
    "In Kotlin Notebook, you can share context between cells. Just like Python Notebook."
   ]
  },
  {
   "cell_type": "code",
   "execution_count": 2,
   "metadata": {},
   "outputs": [],
   "source": [
    "\n",
    "import java.util.Base64\n",
    "\n",
    "val message = \"A message\"\n",
    "\n",
    "fun encodeToBase64(text: String): String {\n",
    "    val byteArray = text.toByteArray()\n",
    "    return Base64.getEncoder().encodeToString(byteArray)\n",
    "}"
   ]
  },
  {
   "cell_type": "markdown",
   "metadata": {},
   "source": [
    "So, you can refer `message` in `encodeToBase64` function."
   ]
  },
  {
   "cell_type": "code",
   "execution_count": 3,
   "metadata": {},
   "outputs": [
    {
     "name": "stdout",
     "output_type": "stream",
     "text": [
      "QSBtZXNzYWdl\n"
     ]
    }
   ],
   "source": [
    "val encodedMessage = encodeToBase64(message)\n",
    "println(encodedMessage) // QSBtZXNzYWdl"
   ]
  },
  {
   "cell_type": "markdown",
   "metadata": {},
   "source": [
    "Extension function also works 👍"
   ]
  },
  {
   "cell_type": "code",
   "execution_count": 4,
   "metadata": {},
   "outputs": [],
   "source": [
    "import java.security.MessageDigest\n",
    "\n",
    "@OptIn(ExperimentalStdlibApi::class)\n",
    "fun String.toDigest(): String {\n",
    "    val md = MessageDigest.getInstance(\"MD5\")\n",
    "    val digest = md.digest(this.toByteArray())\n",
    "    return digest.toHexString()\n",
    "}"
   ]
  },
  {
   "cell_type": "markdown",
   "metadata": {},
   "source": [
    "Again, you can refer `message` in `toDigest` extension function."
   ]
  },
  {
   "cell_type": "code",
   "execution_count": 5,
   "metadata": {},
   "outputs": [
    {
     "name": "stdout",
     "output_type": "stream",
     "text": [
      "5a8231c7d84ce51e0aace1792c9b4e51\n"
     ]
    }
   ],
   "source": [
    "val hash = message.toDigest()\n",
    "println(hash) // 5a8231c7d84ce51e0aace1792c9b4e51"
   ]
  },
  {
   "cell_type": "markdown",
   "metadata": {},
   "source": [
    "You can use other Kotlin & Java built-in collection APIs as well, for example `sequence` and `stream`:"
   ]
  },
  {
   "cell_type": "code",
   "execution_count": 6,
   "metadata": {},
   "outputs": [
    {
     "name": "stdout",
     "output_type": "stream",
     "text": [
      "[4, 16, 36, 64, 100]\n"
     ]
    }
   ],
   "source": [
    "val numbers = listOf(1, 2, 3, 4, 5, 6, 7, 8, 9, 10)\n",
    "    \n",
    "val sequenceResult = numbers.asSequence()\n",
    "    .filter { it % 2 == 0 }\n",
    "    .map { it * it }\n",
    "    .toList()\n",
    "\n",
    "println(sequenceResult) // [4, 16, 36, 64, 100]\n"
   ]
  },
  {
   "cell_type": "markdown",
   "metadata": {},
   "source": [
    "And `stream`:"
   ]
  },
  {
   "cell_type": "code",
   "execution_count": 7,
   "metadata": {},
   "outputs": [
    {
     "name": "stdout",
     "output_type": "stream",
     "text": [
      "[4, 16, 36, 64, 100]\n"
     ]
    }
   ],
   "source": [
    "import java.util.stream.Collectors\n",
    "import java.util.stream.Stream\n",
    "\n",
    "val streamResult = numbers.stream()\n",
    "    .filter { it % 2 == 0 }\n",
    "    .map { it * it }\n",
    "    .collect(Collectors.toList())\n",
    "    \n",
    "println(streamResult) // [4, 16, 36, 64, 100]"
   ]
  }
 ],
 "metadata": {
  "kernelspec": {
   "display_name": "Kotlin",
   "language": "kotlin",
   "name": "kotlin"
  },
  "language_info": {
   "codemirror_mode": "text/x-kotlin",
   "file_extension": ".kt",
   "mimetype": "text/x-kotlin",
   "name": "kotlin",
   "nbconvert_exporter": "",
   "pygments_lexer": "kotlin",
   "version": "1.9.23"
  }
 },
 "nbformat": 4,
 "nbformat_minor": 2
}
